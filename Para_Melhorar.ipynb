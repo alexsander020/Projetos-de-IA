{
  "cells": [
    {
      "cell_type": "markdown",
      "metadata": {
        "id": "view-in-github",
        "colab_type": "text"
      },
      "source": [
        "<a href=\"https://colab.research.google.com/github/alexsander020/Exercicios-de-IA/blob/main/Para_Melhorar.ipynb\" target=\"_parent\"><img src=\"https://colab.research.google.com/assets/colab-badge.svg\" alt=\"Open In Colab\"/></a>"
      ]
    },
    {
      "cell_type": "code",
      "source": [
        "import pandas as pd\n",
        "import time\n",
        "import csv\n",
        "import numpy as np\n",
        "import serial \n",
        "import pandas as pd\n",
        "import matplotlib.pyplot as plt\n",
        "import numpy as np\n",
        "np.random.seed(0)\n",
        "import matplotlib.pyplot as plt\n",
        "from sklearn.preprocessing import LabelEncoder\n",
        "from sklearn.ensemble import RandomForestClassifier\n",
        "from sklearn.model_selection import train_test_split\n",
        "from sklearn.metrics import mean_squared_error\n",
        "from sklearn.metrics import mean_absolute_error\n",
        "from sklearn.metrics import precision_score"
      ],
      "metadata": {
        "id": "4CK6KTCaDI9m"
      },
      "execution_count": null,
      "outputs": []
    },
    {
      "cell_type": "code",
      "source": [
        "#1°\n",
        "porta = \"/dev/tty\"\n",
        "bund = 9600\n",
        "arduino = \"logger.csv\"\n",
        "\n",
        "ser = serial.Serial(porta,bund)\n",
        "ser.flushinput()\n",
        "print(\"Abrindo Serial\")\n",
        "\n",
        "amostra = 10 \n",
        "linha = 0\n",
        "\n",
        "while linha <= 0:\n",
        "\n",
        "  data = str(ser.readline().decode(\"utf-8\"))\n",
        "  print(data)\n",
        "\n",
        "  file = open(arquivo,\"a\")\n",
        "  file.write(data)\n",
        "  linha +=1\n",
        "\n",
        "print(\"Final das Leituras\")\n",
        "\n",
        "file.close()\n",
        "\n",
        "ser.close()"
      ],
      "metadata": {
        "id": "l4cprlugWz24"
      },
      "execution_count": null,
      "outputs": []
    },
    {
      "cell_type": "code",
      "source": [
        "#2°\n",
        "csv = pd.read_csv(\"test.csv\")\n",
        "\n",
        "excelWriter = pd.ExecelWriter(\"new.xlsx\")\n",
        "\n",
        "csv.to_excel(exceWriter, \n",
        "             index_label = 'ABC' \n",
        "             idex = False,float_format = \"%.2f\",\n",
        "             #header - False,\n",
        "             freeze_penes = (3, 1),\n",
        "             sheet_name = \"my data from csv\"\n",
        "             )"
      ],
      "metadata": {
        "id": "HuouRlFSW5bP"
      },
      "execution_count": null,
      "outputs": []
    },
    {
      "cell_type": "code",
      "source": [
        "#3°\n",
        "base = pd.read_excel(\"test.xlsx\")\n",
        "\n",
        "base.head()\n",
        "\n",
        "plt.scatter(base[\"tempo\"], base[\"humidade\"])\n",
        "plt.show()"
      ],
      "metadata": {
        "id": "MRpmvJn8W8An"
      },
      "execution_count": null,
      "outputs": []
    },
    {
      "cell_type": "code",
      "source": [
        "data = pd.read_csv(\"Crop_recommendation.csv\")\n",
        "print(data)"
      ],
      "metadata": {
        "id": "M5V-Wj_pO8gx",
        "outputId": "4ca414a1-0dd0-4001-f825-4d075ed05452",
        "colab": {
          "base_uri": "https://localhost:8080/"
        }
      },
      "execution_count": null,
      "outputs": [
        {
          "output_type": "stream",
          "name": "stdout",
          "text": [
            "        N   P   K  temperature   humidity        ph    rainfall   label\n",
            "0      90  42  43    20.879744  82.002744  6.502985  202.935536    rice\n",
            "1      85  58  41    21.770462  80.319644  7.038096  226.655537    rice\n",
            "2      60  55  44    23.004459  82.320763  7.840207  263.964248    rice\n",
            "3      74  35  40    26.491096  80.158363  6.980401  242.864034    rice\n",
            "4      78  42  42    20.130175  81.604873  7.628473  262.717340    rice\n",
            "...   ...  ..  ..          ...        ...       ...         ...     ...\n",
            "2195  107  34  32    26.774637  66.413269  6.780064  177.774507  coffee\n",
            "2196   99  15  27    27.417112  56.636362  6.086922  127.924610  coffee\n",
            "2197  118  33  30    24.131797  67.225123  6.362608  173.322839  coffee\n",
            "2198  117  32  34    26.272418  52.127394  6.758793  127.175293  coffee\n",
            "2199  104  18  30    23.603016  60.396475  6.779833  140.937041  coffee\n",
            "\n",
            "[2200 rows x 8 columns]\n"
          ]
        }
      ]
    },
    {
      "cell_type": "code",
      "source": [
        "data.isna().sum()"
      ],
      "metadata": {
        "id": "wK44lF8FPKws",
        "outputId": "8b0643f2-873f-4a76-8fdf-6680630de254",
        "colab": {
          "base_uri": "https://localhost:8080/"
        }
      },
      "execution_count": null,
      "outputs": [
        {
          "output_type": "execute_result",
          "data": {
            "text/plain": [
              "N              0\n",
              "P              0\n",
              "K              0\n",
              "temperature    0\n",
              "humidity       0\n",
              "ph             0\n",
              "rainfall       0\n",
              "label          0\n",
              "dtype: int64"
            ]
          },
          "metadata": {},
          "execution_count": 3
        }
      ]
    },
    {
      "cell_type": "code",
      "source": [
        "enc = LabelEncoder()\n",
        "data.label = enc.fit_transform(data.label)"
      ],
      "metadata": {
        "id": "nUAGkYjLPbnW"
      },
      "execution_count": null,
      "outputs": []
    },
    {
      "cell_type": "code",
      "source": [
        "data.head(10)"
      ],
      "metadata": {
        "id": "ahoQGHJXPkap",
        "colab": {
          "base_uri": "https://localhost:8080/",
          "height": 363
        },
        "outputId": "597cfdd3-5f42-4563-a36d-e6e2dfaca2c6"
      },
      "execution_count": null,
      "outputs": [
        {
          "output_type": "execute_result",
          "data": {
            "text/plain": [
              "    N   P   K  temperature   humidity        ph    rainfall  label\n",
              "0  90  42  43    20.879744  82.002744  6.502985  202.935536     20\n",
              "1  85  58  41    21.770462  80.319644  7.038096  226.655537     20\n",
              "2  60  55  44    23.004459  82.320763  7.840207  263.964248     20\n",
              "3  74  35  40    26.491096  80.158363  6.980401  242.864034     20\n",
              "4  78  42  42    20.130175  81.604873  7.628473  262.717340     20\n",
              "5  69  37  42    23.058049  83.370118  7.073454  251.055000     20\n",
              "6  69  55  38    22.708838  82.639414  5.700806  271.324860     20\n",
              "7  94  53  40    20.277744  82.894086  5.718627  241.974195     20\n",
              "8  89  54  38    24.515881  83.535216  6.685346  230.446236     20\n",
              "9  68  58  38    23.223974  83.033227  6.336254  221.209196     20"
            ],
            "text/html": [
              "\n",
              "  <div id=\"df-49383e49-5f87-4742-bc20-ffcb0b3d3265\">\n",
              "    <div class=\"colab-df-container\">\n",
              "      <div>\n",
              "<style scoped>\n",
              "    .dataframe tbody tr th:only-of-type {\n",
              "        vertical-align: middle;\n",
              "    }\n",
              "\n",
              "    .dataframe tbody tr th {\n",
              "        vertical-align: top;\n",
              "    }\n",
              "\n",
              "    .dataframe thead th {\n",
              "        text-align: right;\n",
              "    }\n",
              "</style>\n",
              "<table border=\"1\" class=\"dataframe\">\n",
              "  <thead>\n",
              "    <tr style=\"text-align: right;\">\n",
              "      <th></th>\n",
              "      <th>N</th>\n",
              "      <th>P</th>\n",
              "      <th>K</th>\n",
              "      <th>temperature</th>\n",
              "      <th>humidity</th>\n",
              "      <th>ph</th>\n",
              "      <th>rainfall</th>\n",
              "      <th>label</th>\n",
              "    </tr>\n",
              "  </thead>\n",
              "  <tbody>\n",
              "    <tr>\n",
              "      <th>0</th>\n",
              "      <td>90</td>\n",
              "      <td>42</td>\n",
              "      <td>43</td>\n",
              "      <td>20.879744</td>\n",
              "      <td>82.002744</td>\n",
              "      <td>6.502985</td>\n",
              "      <td>202.935536</td>\n",
              "      <td>20</td>\n",
              "    </tr>\n",
              "    <tr>\n",
              "      <th>1</th>\n",
              "      <td>85</td>\n",
              "      <td>58</td>\n",
              "      <td>41</td>\n",
              "      <td>21.770462</td>\n",
              "      <td>80.319644</td>\n",
              "      <td>7.038096</td>\n",
              "      <td>226.655537</td>\n",
              "      <td>20</td>\n",
              "    </tr>\n",
              "    <tr>\n",
              "      <th>2</th>\n",
              "      <td>60</td>\n",
              "      <td>55</td>\n",
              "      <td>44</td>\n",
              "      <td>23.004459</td>\n",
              "      <td>82.320763</td>\n",
              "      <td>7.840207</td>\n",
              "      <td>263.964248</td>\n",
              "      <td>20</td>\n",
              "    </tr>\n",
              "    <tr>\n",
              "      <th>3</th>\n",
              "      <td>74</td>\n",
              "      <td>35</td>\n",
              "      <td>40</td>\n",
              "      <td>26.491096</td>\n",
              "      <td>80.158363</td>\n",
              "      <td>6.980401</td>\n",
              "      <td>242.864034</td>\n",
              "      <td>20</td>\n",
              "    </tr>\n",
              "    <tr>\n",
              "      <th>4</th>\n",
              "      <td>78</td>\n",
              "      <td>42</td>\n",
              "      <td>42</td>\n",
              "      <td>20.130175</td>\n",
              "      <td>81.604873</td>\n",
              "      <td>7.628473</td>\n",
              "      <td>262.717340</td>\n",
              "      <td>20</td>\n",
              "    </tr>\n",
              "    <tr>\n",
              "      <th>5</th>\n",
              "      <td>69</td>\n",
              "      <td>37</td>\n",
              "      <td>42</td>\n",
              "      <td>23.058049</td>\n",
              "      <td>83.370118</td>\n",
              "      <td>7.073454</td>\n",
              "      <td>251.055000</td>\n",
              "      <td>20</td>\n",
              "    </tr>\n",
              "    <tr>\n",
              "      <th>6</th>\n",
              "      <td>69</td>\n",
              "      <td>55</td>\n",
              "      <td>38</td>\n",
              "      <td>22.708838</td>\n",
              "      <td>82.639414</td>\n",
              "      <td>5.700806</td>\n",
              "      <td>271.324860</td>\n",
              "      <td>20</td>\n",
              "    </tr>\n",
              "    <tr>\n",
              "      <th>7</th>\n",
              "      <td>94</td>\n",
              "      <td>53</td>\n",
              "      <td>40</td>\n",
              "      <td>20.277744</td>\n",
              "      <td>82.894086</td>\n",
              "      <td>5.718627</td>\n",
              "      <td>241.974195</td>\n",
              "      <td>20</td>\n",
              "    </tr>\n",
              "    <tr>\n",
              "      <th>8</th>\n",
              "      <td>89</td>\n",
              "      <td>54</td>\n",
              "      <td>38</td>\n",
              "      <td>24.515881</td>\n",
              "      <td>83.535216</td>\n",
              "      <td>6.685346</td>\n",
              "      <td>230.446236</td>\n",
              "      <td>20</td>\n",
              "    </tr>\n",
              "    <tr>\n",
              "      <th>9</th>\n",
              "      <td>68</td>\n",
              "      <td>58</td>\n",
              "      <td>38</td>\n",
              "      <td>23.223974</td>\n",
              "      <td>83.033227</td>\n",
              "      <td>6.336254</td>\n",
              "      <td>221.209196</td>\n",
              "      <td>20</td>\n",
              "    </tr>\n",
              "  </tbody>\n",
              "</table>\n",
              "</div>\n",
              "      <button class=\"colab-df-convert\" onclick=\"convertToInteractive('df-49383e49-5f87-4742-bc20-ffcb0b3d3265')\"\n",
              "              title=\"Convert this dataframe to an interactive table.\"\n",
              "              style=\"display:none;\">\n",
              "        \n",
              "  <svg xmlns=\"http://www.w3.org/2000/svg\" height=\"24px\"viewBox=\"0 0 24 24\"\n",
              "       width=\"24px\">\n",
              "    <path d=\"M0 0h24v24H0V0z\" fill=\"none\"/>\n",
              "    <path d=\"M18.56 5.44l.94 2.06.94-2.06 2.06-.94-2.06-.94-.94-2.06-.94 2.06-2.06.94zm-11 1L8.5 8.5l.94-2.06 2.06-.94-2.06-.94L8.5 2.5l-.94 2.06-2.06.94zm10 10l.94 2.06.94-2.06 2.06-.94-2.06-.94-.94-2.06-.94 2.06-2.06.94z\"/><path d=\"M17.41 7.96l-1.37-1.37c-.4-.4-.92-.59-1.43-.59-.52 0-1.04.2-1.43.59L10.3 9.45l-7.72 7.72c-.78.78-.78 2.05 0 2.83L4 21.41c.39.39.9.59 1.41.59.51 0 1.02-.2 1.41-.59l7.78-7.78 2.81-2.81c.8-.78.8-2.07 0-2.86zM5.41 20L4 18.59l7.72-7.72 1.47 1.35L5.41 20z\"/>\n",
              "  </svg>\n",
              "      </button>\n",
              "      \n",
              "  <style>\n",
              "    .colab-df-container {\n",
              "      display:flex;\n",
              "      flex-wrap:wrap;\n",
              "      gap: 12px;\n",
              "    }\n",
              "\n",
              "    .colab-df-convert {\n",
              "      background-color: #E8F0FE;\n",
              "      border: none;\n",
              "      border-radius: 50%;\n",
              "      cursor: pointer;\n",
              "      display: none;\n",
              "      fill: #1967D2;\n",
              "      height: 32px;\n",
              "      padding: 0 0 0 0;\n",
              "      width: 32px;\n",
              "    }\n",
              "\n",
              "    .colab-df-convert:hover {\n",
              "      background-color: #E2EBFA;\n",
              "      box-shadow: 0px 1px 2px rgba(60, 64, 67, 0.3), 0px 1px 3px 1px rgba(60, 64, 67, 0.15);\n",
              "      fill: #174EA6;\n",
              "    }\n",
              "\n",
              "    [theme=dark] .colab-df-convert {\n",
              "      background-color: #3B4455;\n",
              "      fill: #D2E3FC;\n",
              "    }\n",
              "\n",
              "    [theme=dark] .colab-df-convert:hover {\n",
              "      background-color: #434B5C;\n",
              "      box-shadow: 0px 1px 3px 1px rgba(0, 0, 0, 0.15);\n",
              "      filter: drop-shadow(0px 1px 2px rgba(0, 0, 0, 0.3));\n",
              "      fill: #FFFFFF;\n",
              "    }\n",
              "  </style>\n",
              "\n",
              "      <script>\n",
              "        const buttonEl =\n",
              "          document.querySelector('#df-49383e49-5f87-4742-bc20-ffcb0b3d3265 button.colab-df-convert');\n",
              "        buttonEl.style.display =\n",
              "          google.colab.kernel.accessAllowed ? 'block' : 'none';\n",
              "\n",
              "        async function convertToInteractive(key) {\n",
              "          const element = document.querySelector('#df-49383e49-5f87-4742-bc20-ffcb0b3d3265');\n",
              "          const dataTable =\n",
              "            await google.colab.kernel.invokeFunction('convertToInteractive',\n",
              "                                                     [key], {});\n",
              "          if (!dataTable) return;\n",
              "\n",
              "          const docLinkHtml = 'Like what you see? Visit the ' +\n",
              "            '<a target=\"_blank\" href=https://colab.research.google.com/notebooks/data_table.ipynb>data table notebook</a>'\n",
              "            + ' to learn more about interactive tables.';\n",
              "          element.innerHTML = '';\n",
              "          dataTable['output_type'] = 'display_data';\n",
              "          await google.colab.output.renderOutput(dataTable, element);\n",
              "          const docLink = document.createElement('div');\n",
              "          docLink.innerHTML = docLinkHtml;\n",
              "          element.appendChild(docLink);\n",
              "        }\n",
              "      </script>\n",
              "    </div>\n",
              "  </div>\n",
              "  "
            ]
          },
          "metadata": {},
          "execution_count": 5
        }
      ]
    },
    {
      "cell_type": "code",
      "source": [
        "plt.figure(figsize=(20,40))\n",
        "pos = 1\n",
        "for i in data.columns:\n",
        "    plt.subplot(6,2,pos)\n",
        "    if i == \"label\":\n",
        "        un, count = np.unique(data.label,return_counts=True)\n",
        "        plt.xlabel(\"Crop\")\n",
        "        plt.ylabel(\"Count\")\n",
        "        plt.title(\"Target Class Distribution\")\n",
        "        plt.barh([enc.classes_[i] for i in un], count)\n",
        "    else:\n",
        "        plt.title(i + \" content in soil\")\n",
        "        plt.xlabel(i + \" content\")\n",
        "        plt.ylabel(\"Quantity\")\n",
        "        plt.hist(data[i])\n",
        "    pos=pos+1\n",
        "plt.tight_layout()"
      ],
      "metadata": {
        "id": "Zh8XHxUJP2hL",
        "colab": {
          "base_uri": "https://localhost:8080/",
          "height": 1000
        },
        "outputId": "c9644880-07f5-499f-ee67-27490d41eb80"
      },
      "execution_count": null,
      "outputs": [
        {
          "output_type": "display_data",
          "data": {
            "text/plain": [
              "<Figure size 1440x2880 with 8 Axes>"
            ],
            "image/png": "[encoded data removed]"
          },
          "metadata": {
            "needs_background": "light"
          }
        }
      ]
    },
    {
      "cell_type": "code",
      "source": [
        "from imblearn.over_sampling import SMOTE\n",
        "oversample = SMOTE()\n",
        "features, labels = oversample.fit_resample(data.drop([\"label\"],axis=1), data.label)"
      ],
      "metadata": {
        "id": "4bJaQVr2P6S6"
      },
      "execution_count": null,
      "outputs": []
    },
    {
      "cell_type": "code",
      "source": [
        "treinoN = data.sample(int(len(data)*0.2))\n",
        "\n",
        "X_treinoN = treinoN[['temperature',\t'humidity',\t'ph',\t'rainfall', 'label']]\n",
        "y_treinoN = treinoN[['N']]\n",
        "\n",
        "testeN = data[~data.index.isin(treinoN.index)]\n",
        "\n",
        "X_testeN = testeN[['temperature',\t'humidity',\t'ph',\t'rainfall',\t'label']]\n",
        "y_testeN = testeN[[\"N\"]]\n",
        "#____________________________________________________________________________________\n",
        "treinoP = data.sample(int(len(data)*0.2))\n",
        "\n",
        "X_treinoP = treinoP [['temperature',\t'humidity',\t'ph',\t'rainfall', 'label']]\n",
        "y_treinoP = treinoP [[\"P\"]]\n",
        "\n",
        "testeP = data[~data.index.isin(treinoP .index)]\n",
        "\n",
        "X_testeP = testeP [['temperature',\t'humidity',\t'ph',\t'rainfall',\t'label']]\n",
        "y_testeP = testeP [[\"P\"]]\n",
        "#____________________________________________________________________________________\n",
        "treinoK = data.sample(int(len(data)*0.2))\n",
        "\n",
        "X_treinoK = treinoK [['temperature',\t'humidity',\t'ph',\t'rainfall', 'label']]\n",
        "y_treinoK = treinoK [[\"K\"]]\n",
        "\n",
        "testeK = data[~data.index.isin(treinoK.index)]\n",
        "\n",
        "X_testeK = testeK [['temperature',\t'humidity',\t'ph',\t'rainfall',\t'label']]\n",
        "y_testeK = testeK [[\"K\"]] "
      ],
      "metadata": {
        "id": "LZDLdSKhk-f3"
      },
      "execution_count": null,
      "outputs": []
    },
    {
      "cell_type": "code",
      "source": [
        "#train_x, test_x, train_y, test_y = train_test_split(features,\n",
        "                                                    #labels,\n",
        "                                                    #test_size=0.2, \n",
        "                                                    #shuffle=True)"
      ],
      "metadata": {
        "id": "dOJLq67vQDDN"
      },
      "execution_count": null,
      "outputs": []
    },
    {
      "cell_type": "code",
      "source": [
        "from sklearn.ensemble import RandomForestRegressor\n",
        "rfN = RandomForestRegressor(n_estimators=15,random_state=0)\n",
        "rfN.fit(X_treinoN, y_treinoN)\n",
        "#---------------------------------------------------------\n",
        "rfP = RandomForestRegressor(n_estimators=15,random_state=0)\n",
        "rfP.fit(X_treinoP, y_treinoP)\n",
        "#---------------------------------------------------------\n",
        "rfK = RandomForestRegressor(n_estimators=15,random_state=0)\n",
        "rfK.fit(X_treinoK, y_treinoK)\n",
        "#mse r2 mae"
      ],
      "metadata": {
        "id": "ABev8BHOP9xC",
        "colab": {
          "base_uri": "https://localhost:8080/"
        },
        "outputId": "8156a217-fb1a-46f7-967c-d45b9a7820f8"
      },
      "execution_count": null,
      "outputs": [
        {
          "output_type": "stream",
          "name": "stderr",
          "text": [
            "/usr/local/lib/python3.7/dist-packages/ipykernel_launcher.py:3: DataConversionWarning: A column-vector y was passed when a 1d array was expected. Please change the shape of y to (n_samples,), for example using ravel().\n",
            "  This is separate from the ipykernel package so we can avoid doing imports until\n",
            "/usr/local/lib/python3.7/dist-packages/ipykernel_launcher.py:6: DataConversionWarning: A column-vector y was passed when a 1d array was expected. Please change the shape of y to (n_samples,), for example using ravel().\n",
            "  \n",
            "/usr/local/lib/python3.7/dist-packages/ipykernel_launcher.py:9: DataConversionWarning: A column-vector y was passed when a 1d array was expected. Please change the shape of y to (n_samples,), for example using ravel().\n",
            "  if __name__ == '__main__':\n"
          ]
        },
        {
          "output_type": "execute_result",
          "data": {
            "text/plain": [
              "RandomForestRegressor(n_estimators=15, random_state=0)"
            ]
          },
          "metadata": {},
          "execution_count": 10
        }
      ]
    },
    {
      "cell_type": "code",
      "source": [
        "from sklearn.metrics import mean_squared_error\n",
        "predP = rfP.predict(X_testeP)\n",
        "mean_squared_error(predP,y_testeP)\n",
        "#------------------------------------\n",
        "predK = rfK.predict(X_testeK)\n",
        "mean_squared_error(predK,y_testeK)\n",
        "#------------------------------------\n",
        "predN = rfP.predict(X_testeN)\n",
        "mean_squared_error(predN,y_testeN)"
      ],
      "metadata": {
        "id": "-GGp2NFdcwWu",
        "colab": {
          "base_uri": "https://localhost:8080/"
        },
        "outputId": "b4f28898-1ea9-4043-8fda-3115a710e810"
      },
      "execution_count": null,
      "outputs": [
        {
          "output_type": "execute_result",
          "data": {
            "text/plain": [
              "2823.5127626262624"
            ]
          },
          "metadata": {},
          "execution_count": 11
        }
      ]
    },
    {
      "cell_type": "code",
      "source": [
        "from sklearn.metrics import mean_absolute_error\n",
        "y_trueP = rfP.predict(X_testeP)\n",
        "mean_absolute_error(y_trueP, y_testeP)\n",
        "#--------------------------------------\n",
        "y_trueN = rfN.predict(X_testeN)\n",
        "mean_absolute_error(y_trueN, y_testeN)\n",
        "#--------------------------------------\n",
        "y_trueK = rfK.predict(X_testeK)\n",
        "mean_absolute_error(y_trueK, y_testeK)"
      ],
      "metadata": {
        "id": "AKbg7yU3dgpQ",
        "colab": {
          "base_uri": "https://localhost:8080/"
        },
        "outputId": "84e6a98e-90db-4834-da80-d6c2a8ede5ce"
      },
      "execution_count": null,
      "outputs": [
        {
          "output_type": "execute_result",
          "data": {
            "text/plain": [
              "4.900265151515152"
            ]
          },
          "metadata": {},
          "execution_count": 12
        }
      ]
    },
    {
      "cell_type": "code",
      "source": [
        "from sklearn.metrics import r2_score\n",
        "predP2 = rfP.predict (X_testeP)\n",
        "r2_score(y_testeP, predP2)\n",
        "#-------------------------------\n",
        "predK2 = rfK.predict (X_testeK)\n",
        "r2_score(y_testeK, predK2)\n",
        "#-------------------------------\n",
        "predN2 = rfN.predict (X_testeN)\n",
        "r2_score(y_testeN, predN2)\n"
      ],
      "metadata": {
        "id": "ordLpcCTd3Ph",
        "colab": {
          "base_uri": "https://localhost:8080/"
        },
        "outputId": "42ad70d8-be19-46a4-9224-757e0529f699"
      },
      "execution_count": null,
      "outputs": [
        {
          "output_type": "execute_result",
          "data": {
            "text/plain": [
              "0.8599377036345305"
            ]
          },
          "metadata": {},
          "execution_count": 13
        }
      ]
    },
    {
      "cell_type": "code",
      "source": [
        "from sklearn.linear_model import LinearRegression\n",
        "lrP =  LinearRegression()\n",
        "lrP.fit(X_treinoP, y_treinoP)\n",
        "#-------------------------------------------------\n",
        "lrK =  LinearRegression()\n",
        "lrK.fit(X_treinoK, y_treinoK)\n",
        "#-------------------------------------------------\n",
        "lrN =  LinearRegression()\n",
        "lrN.fit(X_treinoN, y_treinoN)"
      ],
      "metadata": {
        "id": "bd75gVqkmRcT",
        "colab": {
          "base_uri": "https://localhost:8080/"
        },
        "outputId": "9732494e-a101-4efa-959a-62d2c71ceced"
      },
      "execution_count": null,
      "outputs": [
        {
          "output_type": "execute_result",
          "data": {
            "text/plain": [
              "LinearRegression()"
            ]
          },
          "metadata": {},
          "execution_count": 14
        }
      ]
    },
    {
      "cell_type": "code",
      "source": [
        "from sklearn.metrics import mean_squared_error\n",
        "predYP = lrP.predict(X_testeP)\n",
        "xP = mean_squared_error(predYP,y_testeP)\n",
        "\n",
        "predYN = lrP.predict(X_testeN)\n",
        "xN = mean_squared_error(predYN,y_testeN)\n",
        "\n",
        "predYK = lrK.predict(X_testeK)\n",
        "xK = mean_squared_error(predYK,y_testeK)\n",
        "#----------------------------------------------\n",
        "from sklearn.metrics import mean_absolute_error\n",
        "y_trueP = lrP.predict(X_testeP)\n",
        "yP = mean_absolute_error(y_trueP, y_testeP)\n",
        "\n",
        "y_trueN = lrN.predict(X_testeN)\n",
        "yN = mean_absolute_error(y_trueN, y_testeN)\n",
        "\n",
        "y_trueK = lrK.predict(X_testeK)\n",
        "yK = mean_absolute_error(y_trueK, y_testeK)\n",
        "#----------------------------------------------\n",
        "from sklearn.metrics import r2_score\n",
        "predY2P = lrP.predict (X_testeP)\n",
        "zP = r2_score(y_testeP, predY2P)\n",
        "\n",
        "predY2N = lrN.predict (X_testeN)\n",
        "zN = r2_score(y_testeN, predY2N)\n",
        "\n",
        "predY2K = lrK.predict (X_testeK)\n",
        "zK = r2_score(y_testeK, predY2K)\n",
        "\n",
        "print(\"Medidas do nutriente P: \"f\"{xP}, {yP}, {zP}\\n\")\n",
        "\n",
        "print(\"Medidas do nutriente N: \"f\"{xN}, {yN}, {zN}\\n\")\n",
        "\n",
        "print(\"Medidas do nutriente K: \"f\"{xK}, {yK}, {zK}\")"
      ],
      "metadata": {
        "id": "j1rzSqI7m1Ms",
        "colab": {
          "base_uri": "https://localhost:8080/"
        },
        "outputId": "53f1e489-e6c1-4c6a-a8ed-e16e8d71b5b8"
      },
      "execution_count": null,
      "outputs": [
        {
          "output_type": "stream",
          "name": "stdout",
          "text": [
            "Medidas do nutriente P: 805.2189794370166, 21.4469285284, 0.26530429350446394\n",
            "\n",
            "Medidas do nutriente N: 1647.8029204241793, 31.23070003860113, 0.041033290274664624\n",
            "\n",
            "Medidas do nutriente K: 1881.1370040085328, 33.12244627757796, 0.24938416444813316\n"
          ]
        }
      ]
    },
    {
      "cell_type": "code",
      "source": [
        "def previcaoN(temperature, humidity, ph, rainfall, label):\n",
        "  x = [temperature, humidity, ph, rainfall, label]\n",
        "  x = np.array(x)\n",
        "  x = x.reshape([1,5])\n",
        "  predY = rfN.predict(x)\n",
        "  return predY\n",
        "#---------------------------------------------------------------\n",
        "def previcaoP(temperature, humidity, ph, rainfall, label):\n",
        "  x = [temperature, humidity, ph, rainfall, label]\n",
        "  x = np.array(x)\n",
        "  x = x.reshape([1,5])\n",
        "  predY = rfP.predict(x)\n",
        "  return predY\n",
        "#---------------------------------------------------------------\n",
        "def previcaok(temperature, humidity, ph, rainfall, label):\n",
        "  x = [temperature, humidity, ph, rainfall, label]\n",
        "  x = np.array(x)\n",
        "  x = x.reshape([1,5])\n",
        "  predY = rfK.predict(x)\n",
        "  return predY\n"
      ],
      "metadata": {
        "id": "iLnXotIviLa8"
      },
      "execution_count": null,
      "outputs": []
    },
    {
      "cell_type": "code",
      "source": [
        "xP = ['temperature', 'humidity'\t, 'ph', 'rainfall', 'label']\n",
        "print(xP)\n",
        "xP = np.array(xP)\n",
        "xP = xP.reshape([1,5])\n",
        "xP.shape\n",
        "#----------------------\n",
        "xN = ['temperature', 'humidity'\t, 'ph', 'rainfall', 'label']\n",
        "print(xN)\n",
        "xN = np.array(xN)\n",
        "xN = xN.reshape([1,5])\n",
        "xN.shape\n",
        "#----------------------\n",
        "xK = ['temperature', 'humidity'\t, 'ph', 'rainfall', 'label']\n",
        "print(xK)\n",
        "xK = np.array(xK)\n",
        "xK = xK.reshape([1,5])\n",
        "xK.shape"
      ],
      "metadata": {
        "colab": {
          "base_uri": "https://localhost:8080/"
        },
        "id": "pVbThcjVbn0m",
        "outputId": "d9aa954f-4a85-4c6d-9ecc-39dfe7443180"
      },
      "execution_count": null,
      "outputs": [
        {
          "output_type": "stream",
          "name": "stdout",
          "text": [
            "['temperature', 'humidity', 'ph', 'rainfall', 'label']\n",
            "['temperature', 'humidity', 'ph', 'rainfall', 'label']\n",
            "['temperature', 'humidity', 'ph', 'rainfall', 'label']\n"
          ]
        },
        {
          "output_type": "execute_result",
          "data": {
            "text/plain": [
              "(1, 5)"
            ]
          },
          "metadata": {},
          "execution_count": 17
        }
      ]
    },
    {
      "cell_type": "code",
      "source": [
        "print('''|          Menu de Cultura       |\n",
        "Rice ---> Arroz (1 - 101)\n",
        "Maize ---> Milho (102 - 201)\n",
        "Chickpea ---> Grão de Bico (202 - 300)\n",
        "Kidneyebeans ---> Feijão roxo (301 - 400)\n",
        "Pigeon peas ---> Guandu (401 - 499)\n",
        "Moth beans ---> Vigna aconitifolia (500 - 600)\n",
        "Mung bean ---> Vigna radiata (feijão mungu)(601 - 700)\n",
        "Black gram ---> Vigna mungo (701 - 801)\n",
        "Lentil ---> Lentilha (802 - 901)\n",
        "Pomegranate ---> Romã (901 - 1001)\n",
        "Banana ---> Banana (1002 - 1101)\n",
        "Mango ---> Manga (1102 - 1200)\n",
        "Grapes ---> Uva (1201 - 1301)\n",
        "Watermelon ---> Melancia (1302 - 1401)\n",
        "Muskmelon ---> Melão (1402 - 1501)\n",
        "Apple ---> Maçã (1502 - 1601)\n",
        "Orange ---> Laranja (1602 - 1701)\n",
        "Papaya ---> Mamão (1702 - 1801)\n",
        "Coconut ---> Coco (1802 - 1901)\n",
        "Cotton ---> Algodão (1902 - 2001)\n",
        "Jute ---> Fibra de juta (2002 - 2101)\n",
        "Coffee ---> Café (2102 - 2201)\n",
        "-------------------------------------------------''')\n",
        "temperature\t= int(input(\"Digido o Valor da Temperatura : \"))\n",
        "\n",
        "humidity = int(input(\"Digido o Valor da Humidade : \"))\n",
        "\n",
        "ph = int(input(\"Digido o Valor da PH : \"))\n",
        "\n",
        "rainfall =\tint(input(\"Digido o Valor da Chuva : \"))\n",
        "\n",
        "label = int(input(\"Digido o Valor da  Cultura: \"))\n",
        "\n",
        "N = previcaoN(temperature, humidity, ph, rainfall, label)\n",
        "\n",
        "P = previcaoP(temperature, humidity, ph, rainfall, label)\n",
        "\n",
        "K = previcaok(temperature, humidity, ph, rainfall, label)\n",
        "\n",
        "saida = f' Com os valores passados da \\n Temperature :  {temperature} \\n da Humidade :  {humidity}\\n do PH : {ph} \\n da Chuva : {rainfall} \\n da Cultura: {label}'\n",
        "\n",
        "saida2 = f'Foi obitido os Valoros dos Seguintses Nutrientes \\n Nitrogênio (N):  {N}\\n Valor do Fósforo (P): {P} \\n Valor do Potássio (K): {K}'\n",
        "\n",
        "print(saida)\n",
        "\n",
        "print(saida2)\n"
      ],
      "metadata": {
        "id": "I0leslyupKW2",
        "colab": {
          "base_uri": "https://localhost:8080/"
        },
        "outputId": "fc77f4f8-fee8-4db3-930e-426a99922190"
      },
      "execution_count": null,
      "outputs": [
        {
          "output_type": "stream",
          "name": "stdout",
          "text": [
            "|          Menu de Cultura       |\n",
            "Rice ---> Arroz (1 - 101)\n",
            "Maize ---> Milho (102 - 201)\n",
            "Chickpea ---> Grão de Bico (202 - 300)\n",
            "Kidneyebeans ---> Feijão roxo (301 - 400)\n",
            "Pigeon peas ---> Guandu (401 - 499)\n",
            "Moth beans ---> Vigna aconitifolia (500 - 600)\n",
            "Mung bean ---> Vigna radiata (feijão mungu)(601 - 700)\n",
            "Black gram ---> Vigna mungo (701 - 801)\n",
            "Lentil ---> Lentilha (802 - 901)\n",
            "Pomegranate ---> Romã (901 - 1001)\n",
            "Banana ---> Banana (1002 - 1101)\n",
            "Mango ---> Manga (1102 - 1200)\n",
            "Grapes ---> Uva (1201 - 1301)\n",
            "Watermelon ---> Melancia (1302 - 1401)\n",
            "Muskmelon ---> Melão (1402 - 1501)\n",
            "Apple ---> Maçã (1502 - 1601)\n",
            "Orange ---> Laranja (1602 - 1701)\n",
            "Papaya ---> Mamão (1702 - 1801)\n",
            "Coconut ---> Coco (1802 - 1901)\n",
            "Cotton ---> Algodão (1902 - 2001)\n",
            "Jute ---> Fibra de juta (2002 - 2101)\n",
            "Coffee ---> Café (2102 - 2201)\n",
            "-------------------------------------------------\n",
            "Digido o Valor da Temperatura : 21\n",
            "Digido o Valor da Humidade : 457554\n",
            "Digido o Valor da PH : 6\n",
            "Digido o Valor da Chuva : 85\n",
            "Digido o Valor da  Cultura: 2201\n",
            " Com os valores passados da \n",
            " Temperature :  21 \n",
            " da Humidade :  457554\n",
            " do PH : 6 \n",
            " da Chuva : 85 \n",
            " da Cultura: 2201\n",
            "Foi obitido os Valoros dos Seguintses Nutrientes \n",
            " Nitrogênio (N):  [87.8]\n",
            " Valor do Fósforo (P): [17.13333333] \n",
            " Valor do Potássio (K): [41.06666667]\n"
          ]
        },
        {
          "output_type": "stream",
          "name": "stderr",
          "text": [
            "/usr/local/lib/python3.7/dist-packages/sklearn/base.py:451: UserWarning: X does not have valid feature names, but RandomForestRegressor was fitted with feature names\n",
            "  \"X does not have valid feature names, but\"\n",
            "/usr/local/lib/python3.7/dist-packages/sklearn/base.py:451: UserWarning: X does not have valid feature names, but RandomForestRegressor was fitted with feature names\n",
            "  \"X does not have valid feature names, but\"\n",
            "/usr/local/lib/python3.7/dist-packages/sklearn/base.py:451: UserWarning: X does not have valid feature names, but RandomForestRegressor was fitted with feature names\n",
            "  \"X does not have valid feature names, but\"\n"
          ]
        }
      ]
    },
    {
      "cell_type": "code",
      "source": [
        "print(\"Train MSE : {:.2f} \".format (mean_squared_error(rfP.predict(X_treinoP), y_treinoP)))"
      ],
      "metadata": {
        "id": "I5IJYh83zd38",
        "colab": {
          "base_uri": "https://localhost:8080/"
        },
        "outputId": "06ccf6bf-32c8-4e74-9d88-95cabe6dacc3"
      },
      "execution_count": null,
      "outputs": [
        {
          "output_type": "stream",
          "name": "stdout",
          "text": [
            "Train MSE : 23.00 \n"
          ]
        }
      ]
    },
    {
      "cell_type": "code",
      "source": [
        "print(\"Train MAE : {:.2f} \".format (mean_absolute_error(rfP.predict(X_treinoP), y_treinoP)))\n"
      ],
      "metadata": {
        "id": "IBBmfDot0Qqc",
        "colab": {
          "base_uri": "https://localhost:8080/"
        },
        "outputId": "00fd3bdf-7729-469b-d4e7-ddcd867036cd"
      },
      "execution_count": null,
      "outputs": [
        {
          "output_type": "stream",
          "name": "stdout",
          "text": [
            "Train MAE : 3.41 \n"
          ]
        }
      ]
    },
    {
      "cell_type": "code",
      "source": [
        "def N(x,c,d,f,):\n",
        "  return rfN.predict(x,c,d,f,)\n",
        "\n",
        "def P(x,c,d,f,):\n",
        "  return rfP.predict(x,c,d,f,)\n",
        "\n",
        "def K(x,c,d,f,):\n",
        "  return rfK.predict(x,c,d,f,)"
      ],
      "metadata": {
        "id": "ULaSn_CJkzZN"
      },
      "execution_count": null,
      "outputs": []
    },
    {
      "cell_type": "markdown",
      "source": [
        "Salvando Modelo\n",
        "\n",
        "\n",
        "\n",
        "\n"
      ],
      "metadata": {
        "id": "xgUsxbgMCmcN"
      }
    },
    {
      "cell_type": "code",
      "source": [
        "import joblib\n",
        "from sklearn.utils.validation import joblib"
      ],
      "metadata": {
        "id": "EW_3YqmvCppG"
      },
      "execution_count": null,
      "outputs": []
    },
    {
      "cell_type": "code",
      "source": [
        "joblib.dump(rfK,'rfK')"
      ],
      "metadata": {
        "id": "rxFAEm4tKRRe",
        "colab": {
          "base_uri": "https://localhost:8080/"
        },
        "outputId": "83baf39c-da26-46d0-a7da-39cde25cb5ee"
      },
      "execution_count": null,
      "outputs": [
        {
          "output_type": "execute_result",
          "data": {
            "text/plain": [
              "['rfK']"
            ]
          },
          "metadata": {},
          "execution_count": 23
        }
      ]
    },
    {
      "cell_type": "code",
      "source": [
        "joblib.dump(rfN,'rfN')"
      ],
      "metadata": {
        "id": "_zdJxs1MWjIx",
        "colab": {
          "base_uri": "https://localhost:8080/"
        },
        "outputId": "9fcc0cf9-a56a-47b3-b5be-9deb324811ab"
      },
      "execution_count": null,
      "outputs": [
        {
          "output_type": "execute_result",
          "data": {
            "text/plain": [
              "['rfN']"
            ]
          },
          "metadata": {},
          "execution_count": 24
        }
      ]
    },
    {
      "cell_type": "code",
      "source": [
        "joblib.dump(rfP,'rfP')"
      ],
      "metadata": {
        "id": "y3oRYkyPWkzr",
        "colab": {
          "base_uri": "https://localhost:8080/"
        },
        "outputId": "57da2240-3274-419f-c677-9d265e376f95"
      },
      "execution_count": null,
      "outputs": [
        {
          "output_type": "execute_result",
          "data": {
            "text/plain": [
              "['rfP']"
            ]
          },
          "metadata": {},
          "execution_count": 25
        }
      ]
    }
  ],
  "metadata": {
    "colab": {
      "collapsed_sections": [],
      "provenance": [],
      "include_colab_link": true
    },
    "kernelspec": {
      "display_name": "Python 3",
      "name": "python3"
    }
  },
  "nbformat": 4,
  "nbformat_minor": 0
}
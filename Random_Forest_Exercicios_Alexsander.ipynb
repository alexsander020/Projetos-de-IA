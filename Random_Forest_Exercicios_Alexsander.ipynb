{
  "nbformat": 4,
  "nbformat_minor": 0,
  "metadata": {
    "colab": {
      "provenance": []
    },
    "kernelspec": {
      "name": "python3",
      "display_name": "Python 3"
    },
    "language_info": {
      "name": "python"
    },
    "accelerator": "GPU"
  },
  "cells": [
    {
      "cell_type": "code",
      "execution_count": null,
      "metadata": {
        "id": "C0Eo_TX4Ow0h",
        "colab": {
          "base_uri": "https://localhost:8080/"
        },
        "outputId": "7fa915a8-f6b4-4703-acad-c1bb42852475"
      },
      "outputs": [
        {
          "output_type": "stream",
          "name": "stdout",
          "text": [
            "         id keyword location  \\\n",
            "0         1     NaN      NaN   \n",
            "1         4     NaN      NaN   \n",
            "2         5     NaN      NaN   \n",
            "3         6     NaN      NaN   \n",
            "4         7     NaN      NaN   \n",
            "...     ...     ...      ...   \n",
            "7608  10869     NaN      NaN   \n",
            "7609  10870     NaN      NaN   \n",
            "7610  10871     NaN      NaN   \n",
            "7611  10872     NaN      NaN   \n",
            "7612  10873     NaN      NaN   \n",
            "\n",
            "                                                   text  target  \n",
            "0     Our Deeds are the Reason of this #earthquake M...       1  \n",
            "1                Forest fire near La Ronge Sask. Canada       1  \n",
            "2     All residents asked to 'shelter in place' are ...       1  \n",
            "3     13,000 people receive #wildfires evacuation or...       1  \n",
            "4     Just got sent this photo from Ruby #Alaska as ...       1  \n",
            "...                                                 ...     ...  \n",
            "7608  Two giant cranes holding a bridge collapse int...       1  \n",
            "7609  @aria_ahrary @TheTawniest The out of control w...       1  \n",
            "7610  M1.94 [01:04 UTC]?5km S of Volcano Hawaii. htt...       1  \n",
            "7611  Police investigating after an e-bike collided ...       1  \n",
            "7612  The Latest: More Homes Razed by Northern Calif...       1  \n",
            "\n",
            "[7613 rows x 5 columns]\n"
          ]
        }
      ],
      "source": [
        "import pandas as pd\n",
        "import csv\n",
        "data = pd.read_csv(\"train.csv\")\n",
        "print(data)"
      ]
    },
    {
      "cell_type": "code",
      "source": [
        "data.value_counts(\"target\" )"
      ],
      "metadata": {
        "id": "Vt7AGW9ogix1",
        "colab": {
          "base_uri": "https://localhost:8080/"
        },
        "outputId": "e61b7ae4-f518-4270-9091-560af49e75d7"
      },
      "execution_count": null,
      "outputs": [
        {
          "output_type": "execute_result",
          "data": {
            "text/plain": [
              "target\n",
              "0    4342\n",
              "1    3271\n",
              "dtype: int64"
            ]
          },
          "metadata": {},
          "execution_count": 20
        }
      ]
    },
    {
      "cell_type": "code",
      "source": [
        "!python -m spacy download en_core_web_sm"
      ],
      "metadata": {
        "id": "4YAuYrYeRuwK",
        "colab": {
          "base_uri": "https://localhost:8080/"
        },
        "outputId": "a74c45bb-c5ef-494b-c637-748ec2d97abe"
      },
      "execution_count": null,
      "outputs": [
        {
          "output_type": "stream",
          "name": "stdout",
          "text": [
            "Looking in indexes: https://pypi.org/simple, https://us-python.pkg.dev/colab-wheels/public/simple/\n",
            "Collecting en_core_web_sm==2.2.5\n",
            "  Downloading https://github.com/explosion/spacy-models/releases/download/en_core_web_sm-2.2.5/en_core_web_sm-2.2.5.tar.gz (12.0 MB)\n",
            "\u001b[K     |████████████████████████████████| 12.0 MB 7.4 MB/s \n",
            "\u001b[?25hRequirement already satisfied: spacy>=2.2.2 in /usr/local/lib/python3.7/dist-packages (from en_core_web_sm==2.2.5) (2.2.4)\n",
            "Requirement already satisfied: requests<3.0.0,>=2.13.0 in /usr/local/lib/python3.7/dist-packages (from spacy>=2.2.2->en_core_web_sm==2.2.5) (2.23.0)\n",
            "Requirement already satisfied: wasabi<1.1.0,>=0.4.0 in /usr/local/lib/python3.7/dist-packages (from spacy>=2.2.2->en_core_web_sm==2.2.5) (0.9.1)\n",
            "Requirement already satisfied: numpy>=1.15.0 in /usr/local/lib/python3.7/dist-packages (from spacy>=2.2.2->en_core_web_sm==2.2.5) (1.21.6)\n",
            "Requirement already satisfied: thinc==7.4.0 in /usr/local/lib/python3.7/dist-packages (from spacy>=2.2.2->en_core_web_sm==2.2.5) (7.4.0)\n",
            "Requirement already satisfied: plac<1.2.0,>=0.9.6 in /usr/local/lib/python3.7/dist-packages (from spacy>=2.2.2->en_core_web_sm==2.2.5) (1.1.3)\n",
            "Requirement already satisfied: preshed<3.1.0,>=3.0.2 in /usr/local/lib/python3.7/dist-packages (from spacy>=2.2.2->en_core_web_sm==2.2.5) (3.0.6)\n",
            "Requirement already satisfied: blis<0.5.0,>=0.4.0 in /usr/local/lib/python3.7/dist-packages (from spacy>=2.2.2->en_core_web_sm==2.2.5) (0.4.1)\n",
            "Requirement already satisfied: murmurhash<1.1.0,>=0.28.0 in /usr/local/lib/python3.7/dist-packages (from spacy>=2.2.2->en_core_web_sm==2.2.5) (1.0.7)\n",
            "Requirement already satisfied: srsly<1.1.0,>=1.0.2 in /usr/local/lib/python3.7/dist-packages (from spacy>=2.2.2->en_core_web_sm==2.2.5) (1.0.5)\n",
            "Requirement already satisfied: setuptools in /usr/local/lib/python3.7/dist-packages (from spacy>=2.2.2->en_core_web_sm==2.2.5) (57.4.0)\n",
            "Requirement already satisfied: tqdm<5.0.0,>=4.38.0 in /usr/local/lib/python3.7/dist-packages (from spacy>=2.2.2->en_core_web_sm==2.2.5) (4.64.0)\n",
            "Requirement already satisfied: catalogue<1.1.0,>=0.0.7 in /usr/local/lib/python3.7/dist-packages (from spacy>=2.2.2->en_core_web_sm==2.2.5) (1.0.0)\n",
            "Requirement already satisfied: cymem<2.1.0,>=2.0.2 in /usr/local/lib/python3.7/dist-packages (from spacy>=2.2.2->en_core_web_sm==2.2.5) (2.0.6)\n",
            "Requirement already satisfied: importlib-metadata>=0.20 in /usr/local/lib/python3.7/dist-packages (from catalogue<1.1.0,>=0.0.7->spacy>=2.2.2->en_core_web_sm==2.2.5) (4.11.4)\n",
            "Requirement already satisfied: zipp>=0.5 in /usr/local/lib/python3.7/dist-packages (from importlib-metadata>=0.20->catalogue<1.1.0,>=0.0.7->spacy>=2.2.2->en_core_web_sm==2.2.5) (3.8.0)\n",
            "Requirement already satisfied: typing-extensions>=3.6.4 in /usr/local/lib/python3.7/dist-packages (from importlib-metadata>=0.20->catalogue<1.1.0,>=0.0.7->spacy>=2.2.2->en_core_web_sm==2.2.5) (4.2.0)\n",
            "Requirement already satisfied: idna<3,>=2.5 in /usr/local/lib/python3.7/dist-packages (from requests<3.0.0,>=2.13.0->spacy>=2.2.2->en_core_web_sm==2.2.5) (2.10)\n",
            "Requirement already satisfied: certifi>=2017.4.17 in /usr/local/lib/python3.7/dist-packages (from requests<3.0.0,>=2.13.0->spacy>=2.2.2->en_core_web_sm==2.2.5) (2022.5.18.1)\n",
            "Requirement already satisfied: urllib3!=1.25.0,!=1.25.1,<1.26,>=1.21.1 in /usr/local/lib/python3.7/dist-packages (from requests<3.0.0,>=2.13.0->spacy>=2.2.2->en_core_web_sm==2.2.5) (1.24.3)\n",
            "Requirement already satisfied: chardet<4,>=3.0.2 in /usr/local/lib/python3.7/dist-packages (from requests<3.0.0,>=2.13.0->spacy>=2.2.2->en_core_web_sm==2.2.5) (3.0.4)\n",
            "\u001b[38;5;2m✔ Download and installation successful\u001b[0m\n",
            "You can now load the model via spacy.load('en_core_web_sm')\n"
          ]
        }
      ]
    },
    {
      "cell_type": "code",
      "source": [
        "import spacy\n",
        "\n",
        "nlp = spacy.load(\"en_core_web_sm\")\n",
        "\n",
        "def textToVec(sentence):\n",
        "  model= nlp(sentence)\n",
        "  return model.vector"
      ],
      "metadata": {
        "id": "btR7hm6hRoRz"
      },
      "execution_count": null,
      "outputs": []
    },
    {
      "cell_type": "code",
      "source": [
        "data[\"embeddings\"] = data[\"text\"].apply(textToVec)"
      ],
      "metadata": {
        "id": "8YZUErcUStUQ"
      },
      "execution_count": null,
      "outputs": []
    },
    {
      "cell_type": "code",
      "source": [
        "print(data)"
      ],
      "metadata": {
        "colab": {
          "base_uri": "https://localhost:8080/"
        },
        "id": "qu4BE_gNxV8f",
        "outputId": "46570dc7-3727-4450-d241-578961085596"
      },
      "execution_count": null,
      "outputs": [
        {
          "output_type": "stream",
          "name": "stdout",
          "text": [
            "         id keyword location  \\\n",
            "0         1     NaN      NaN   \n",
            "1         4     NaN      NaN   \n",
            "2         5     NaN      NaN   \n",
            "3         6     NaN      NaN   \n",
            "4         7     NaN      NaN   \n",
            "...     ...     ...      ...   \n",
            "7608  10869     NaN      NaN   \n",
            "7609  10870     NaN      NaN   \n",
            "7610  10871     NaN      NaN   \n",
            "7611  10872     NaN      NaN   \n",
            "7612  10873     NaN      NaN   \n",
            "\n",
            "                                                   text  target  \\\n",
            "0     Our Deeds are the Reason of this #earthquake M...       1   \n",
            "1                Forest fire near La Ronge Sask. Canada       1   \n",
            "2     All residents asked to 'shelter in place' are ...       1   \n",
            "3     13,000 people receive #wildfires evacuation or...       1   \n",
            "4     Just got sent this photo from Ruby #Alaska as ...       1   \n",
            "...                                                 ...     ...   \n",
            "7608  Two giant cranes holding a bridge collapse int...       1   \n",
            "7609  @aria_ahrary @TheTawniest The out of control w...       1   \n",
            "7610  M1.94 [01:04 UTC]?5km S of Volcano Hawaii. htt...       1   \n",
            "7611  Police investigating after an e-bike collided ...       1   \n",
            "7612  The Latest: More Homes Razed by Northern Calif...       1   \n",
            "\n",
            "                                             embeddings  \n",
            "0     [0.13452259, 0.23726232, -0.119597025, -0.3874...  \n",
            "1     [1.0309792, -1.2418449, -0.70834446, 2.372108,...  \n",
            "2     [-0.07072455, 1.0874248, -1.0262684, -0.912617...  \n",
            "3     [-0.31764805, -0.38670865, -0.57177967, -0.401...  \n",
            "4     [0.15479794, 0.0410915, 0.027221614, -0.359821...  \n",
            "...                                                 ...  \n",
            "7608  [0.6788498, -0.23372425, 0.37634322, 0.3052413...  \n",
            "7609  [0.23419183, -0.12668613, 0.22306858, 0.085115...  \n",
            "7610  [0.8165533, -0.5252685, 0.08102138, 0.02340464...  \n",
            "7611  [1.3380736, -0.34899575, 0.020644717, 0.528370...  \n",
            "7612  [0.8571997, -0.5512728, 0.12522098, 1.2699242,...  \n",
            "\n",
            "[7613 rows x 6 columns]\n"
          ]
        }
      ]
    },
    {
      "cell_type": "code",
      "source": [
        "import numpy as np\n"
      ],
      "metadata": {
        "id": "_TLSVK6lyE1O"
      },
      "execution_count": null,
      "outputs": []
    },
    {
      "cell_type": "code",
      "source": [
        "train = data.sample(frac = 0.8, replace=False, random_state = 20)\n",
        "test =  data.drop(train.index)"
      ],
      "metadata": {
        "id": "0ydIdIRNWFFN"
      },
      "execution_count": null,
      "outputs": []
    },
    {
      "cell_type": "code",
      "source": [
        "x_train = train['embeddings'].tolist()\n",
        "y_train = train['target'].tolist()\n",
        "\n",
        "\n",
        "x_train = train['embeddings'].tolist()\n",
        "y_train = train['target'].tolist()\n"
      ],
      "metadata": {
        "id": "AFPtDoNpUzxS"
      },
      "execution_count": null,
      "outputs": []
    },
    {
      "cell_type": "code",
      "source": [
        "from sklearn.ensemble import RandomForestClassifier\n",
        "import numpy as np"
      ],
      "metadata": {
        "id": "5i0lgFDsUfeP"
      },
      "execution_count": null,
      "outputs": []
    },
    {
      "cell_type": "code",
      "source": [
        "rd1 = RandomForestClassifier(n_estimators=100, max_depth=2, random_state=0)  "
      ],
      "metadata": {
        "id": "8bYvg4GzUsJl"
      },
      "execution_count": null,
      "outputs": []
    },
    {
      "cell_type": "code",
      "source": [
        "rd1.fit(x_train,  y_train)"
      ],
      "metadata": {
        "id": "ugqkQqA0fTka",
        "colab": {
          "base_uri": "https://localhost:8080/"
        },
        "outputId": "e5d60da7-a2c0-423a-ef64-01412398c867"
      },
      "execution_count": null,
      "outputs": [
        {
          "output_type": "execute_result",
          "data": {
            "text/plain": [
              "RandomForestClassifier(max_depth=2, random_state=0)"
            ]
          },
          "metadata": {},
          "execution_count": 53
        }
      ]
    },
    {
      "cell_type": "code",
      "source": [
        "rd2 =  RandomForestClassifier(n_estimators=5000, max_depth=3, random_state=0)  "
      ],
      "metadata": {
        "id": "9eMq252JYeq1"
      },
      "execution_count": null,
      "outputs": []
    },
    {
      "cell_type": "code",
      "source": [
        "rd2.fit(x_train,  y_train)"
      ],
      "metadata": {
        "id": "3YriyOOwfWr4",
        "colab": {
          "base_uri": "https://localhost:8080/"
        },
        "outputId": "539af7ac-255b-4a0a-89aa-4eff2a06e4d3"
      },
      "execution_count": null,
      "outputs": [
        {
          "output_type": "execute_result",
          "data": {
            "text/plain": [
              "RandomForestClassifier(max_depth=3, n_estimators=5000, random_state=0)"
            ]
          },
          "metadata": {},
          "execution_count": 55
        }
      ]
    },
    {
      "cell_type": "markdown",
      "source": [
        "Agora crie uma Regressão logistica para tentar realizar a mesma tarefa"
      ],
      "metadata": {
        "id": "HqxQGa6JfF6F"
      }
    },
    {
      "cell_type": "code",
      "source": [
        "from sklearn.linear_model import LogisticRegression"
      ],
      "metadata": {
        "id": "t797ZZxtZwRI"
      },
      "execution_count": null,
      "outputs": []
    },
    {
      "cell_type": "code",
      "source": [
        "logistc =  LogisticRegression(random_state=0).fit(x_train,  y_train)"
      ],
      "metadata": {
        "id": "4vCpvwcOZzf-"
      },
      "execution_count": null,
      "outputs": []
    },
    {
      "cell_type": "markdown",
      "source": [
        "Os códigos abaixo irão gerar as matrizes de confusão dos três modelos. Apenas rode eles."
      ],
      "metadata": {
        "id": "IHtuyCW1ffb_"
      }
    },
    {
      "cell_type": "code",
      "source": [
        "from sklearn.metrics import plot_confusion_matrix\n",
        "import matplotlib.pyplot as plt"
      ],
      "metadata": {
        "id": "K5r3YyEMfEoc"
      },
      "execution_count": null,
      "outputs": []
    },
    {
      "cell_type": "code",
      "source": [
        "plot_confusion_matrix(rd1, X_test, y_test, normalize='all', values_format='.2%') \n",
        "plt.show()"
      ],
      "metadata": {
        "id": "Ba3lTdGKWrPQ"
      },
      "execution_count": null,
      "outputs": []
    },
    {
      "cell_type": "code",
      "source": [
        "plot_confusion_matrix(rd2, X_test, y_test, normalize='all', values_format='.2%')  \n",
        "plt.show()"
      ],
      "metadata": {
        "colab": {
          "base_uri": "https://localhost:8080/",
          "height": 334
        },
        "id": "WW0tUgWHYlf7",
        "outputId": "7274cb7e-8965-4359-f8eb-f2b4fa438645"
      },
      "execution_count": null,
      "outputs": [
        {
          "output_type": "stream",
          "name": "stderr",
          "text": [
            "/usr/local/lib/python3.7/dist-packages/sklearn/utils/deprecation.py:87: FutureWarning: Function plot_confusion_matrix is deprecated; Function `plot_confusion_matrix` is deprecated in 1.0 and will be removed in 1.2. Use one of the class methods: ConfusionMatrixDisplay.from_predictions or ConfusionMatrixDisplay.from_estimator.\n",
            "  warnings.warn(msg, category=FutureWarning)\n"
          ]
        },
        {
          "output_type": "display_data",
          "data": {
            "text/plain": [
              "<Figure size 432x288 with 2 Axes>"
            ],
            "image/png": "[encoded data removed]"
          },
          "metadata": {
            "needs_background": "light"
          }
        }
      ]
    },
    {
      "cell_type": "code",
      "source": [
        "plot_confusion_matrix(logistc, X_test, y_test, normalize='all', values_format='.2%')  \n",
        "plt.show()"
      ],
      "metadata": {
        "colab": {
          "base_uri": "https://localhost:8080/",
          "height": 334
        },
        "id": "-OhnvSFRaBGV",
        "outputId": "06388a9d-61fe-4518-e34d-97aea89b73a8"
      },
      "execution_count": null,
      "outputs": [
        {
          "output_type": "stream",
          "name": "stderr",
          "text": [
            "/usr/local/lib/python3.7/dist-packages/sklearn/utils/deprecation.py:87: FutureWarning: Function plot_confusion_matrix is deprecated; Function `plot_confusion_matrix` is deprecated in 1.0 and will be removed in 1.2. Use one of the class methods: ConfusionMatrixDisplay.from_predictions or ConfusionMatrixDisplay.from_estimator.\n",
            "  warnings.warn(msg, category=FutureWarning)\n"
          ]
        },
        {
          "output_type": "display_data",
          "data": {
            "text/plain": [
              "<Figure size 432x288 with 2 Axes>"
            ],
            "image/png": "[encoded data removed]"
          },
          "metadata": {
            "needs_background": "light"
          }
        }
      ]
    }
  ]
}